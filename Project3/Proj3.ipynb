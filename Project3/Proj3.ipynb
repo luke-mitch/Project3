{
 "cells": [
  {
   "cell_type": "code",
   "execution_count": 1,
   "metadata": {},
   "outputs": [],
   "source": [
    "import numpy as np\n",
    "import matplotlib.pyplot as plt\n",
    "from scipy.stats import norm\n",
    "from scipy.integrate import quad\n",
    "import pandas as pd\n",
    "from iminuit import Minuit\n",
    "import scipy.integrate as integrate"
   ]
  },
  {
   "cell_type": "markdown",
   "metadata": {},
   "source": [
    "To whomever is marking,\n",
    "\n",
    "The top part of the notebook contains the bulk of the code, the actual answers to the questions are at the bottom and clearly labelled."
   ]
  },
  {
   "cell_type": "markdown",
   "metadata": {},
   "source": [
    "## PART 1 CODE"
   ]
  },
  {
   "cell_type": "markdown",
   "metadata": {},
   "source": [
    "__class Exponential__\n",
    "\n",
    "This class was to create the initial pdf given in the ReportDescription. It is based on the solutions released on learn. It calls for inputs that help define the pdf and contains definitions that will return the max value of the pdf, evaluate the pdf at a value of t, and evaluate the normalised pdf at the value of t. The class can be set as an object and calling the object.next() will draw a number of \"events\" called in the object when you create it."
   ]
  },
  {
   "cell_type": "code",
   "execution_count": 2,
   "metadata": {},
   "outputs": [],
   "source": [
    "class Exponential:\n",
    "    \n",
    "    # Constructor\n",
    "    def __init__(self, lolim, hilim, V, m, tau, nevents):\n",
    "        self.V = V\n",
    "        self.m = m\n",
    "        self.tau = tau\n",
    "        self.lolimit = lolim\n",
    "        self.hilimit = hilim\n",
    "        self.nevents = nevents\n",
    "        self.shape = lambda t: (1+V*np.sin(m*t))*np.exp(-t/tau)\n",
    "        self.max = findMax( self.shape, self.lolimit, self.hilimit )\n",
    "  \n",
    "    # Returns max value of function\n",
    "    def maxVal( self ) :\n",
    "        return self.max\n",
    "\n",
    "    # Evaluate method (un-normalised)\n",
    "    def evaluate(self, t ):\n",
    "        return self.shape(t)\n",
    " \n",
    "    # Evaluate method (normalised)\n",
    "    def evaluateNorm(self, t ):\n",
    "        return self.shape(t) / integrate.quad( self.shape, self.lolimit, self.hilimit)[0]\n",
    "    \n",
    "    # Draw nevents random numbers from distribution\n",
    "    def next(self):\n",
    "        data  = drawSample(self, self.lolimit, self.hilimit, self.nevents)\n",
    "        return data"
   ]
  },
  {
   "cell_type": "markdown",
   "metadata": {},
   "source": [
    "__HELPER FUNCTIONS__\n",
    "\n",
    "These helper functions were universal, they didn't change in any of the classes or definitions so were left outside to be called when needed. mapShape and plotShape produce graphs, drawSample creates a random sample of nevents from the pdf using the box method and findMax simply finds the max of the pdf given."
   ]
  },
  {
   "cell_type": "code",
   "execution_count": 3,
   "metadata": {},
   "outputs": [],
   "source": [
    "# A set of simple helper functions\n",
    "\n",
    "# function to make x,y map of a shape function\n",
    "def mapShape( shape, lolimit, hilimit, steps ):\n",
    "    y = []\n",
    "    x = []\n",
    "    increment = (hilimit-lolimit)/float(steps)\n",
    "    for i in range( steps ):\n",
    "        t = lolimit+i*increment\n",
    "        x.append(t)\n",
    "        y.append(shape.evaluateNorm(t))\n",
    "    return x,y\n",
    "    \n",
    "# To draw a random sample of N events from a pdf using box method\n",
    "def drawSample(pdf, lolimit, hilimit, nevents):\n",
    "    times = []\n",
    "    for i in range(nevents):\n",
    "        ythrow = 1.\n",
    "        yval=0.\n",
    "        while ythrow > yval:\n",
    "            tthrow = lolimit + (hilimit-lolimit)* np.random.uniform()\n",
    "            ythrow = pdf.maxVal() * np.random.uniform()\n",
    "            yval =  pdf.evaluate(tthrow)\n",
    "        times.append(tthrow)\n",
    "    return times\n",
    "\n",
    "# To fnd the maximum value of a function\n",
    "def findMax( func, lolimit, hilimit ):\n",
    "    max = 0\n",
    "    grid= 100000\n",
    "    dt = (hilimit-lolimit)/float(grid)\n",
    "    for i in range(grid):\n",
    "        if( func(lolimit+i*dt) > max ) : max = func(lolimit+i*dt)\n",
    "    return max\n",
    "\n",
    "#plots the data drawn from the drawSample def and the shape of the pdf itself\n",
    "def plotShape( data, pdf, lolimit, hilimit, nbins ):\n",
    "    x,y = mapShape( pdf, lolimit, hilimit, nbins )\n",
    "    scaleFactor = len(data)/np.sum(y)\n",
    "    y = np.multiply( y, scaleFactor )\n",
    "    plt.plot(x,y)\n",
    "    plt.hist(data, bins=nbins, range=[lolimit,hilimit])\n",
    "    plt.show()"
   ]
  },
  {
   "cell_type": "markdown",
   "metadata": {},
   "source": [
    "__singleToy__\n",
    "\n",
    "This def creates and plots a single experiment. The one MC simulation takes values for it's input (which were given as nominal values in the ReportDiscription) which aren't changed so defined inside the def. The def creates the pdf, draws some data and plots the result."
   ]
  },
  {
   "cell_type": "code",
   "execution_count": 4,
   "metadata": {},
   "outputs": [],
   "source": [
    "# Main code to generate and plot a single experiment\n",
    "def singleToy(nevents):\n",
    "\n",
    "    #Set up intial values for the pdf\n",
    "    lolimit = 0.\n",
    "    hilimit = 10.\n",
    "    V = 0.1 \n",
    "    m = 20  \n",
    "    tau = 1.5  \n",
    "\n",
    "    #Create the pdf\n",
    "    pdf = Exponential(lolimit, hilimit, V, m, tau, nevents)\n",
    "    \n",
    "    #Generate a single experiment\n",
    "    data = pdf.next()\n",
    "    \n",
    "    #Plot function and data (input, function, lower limit, higher limit, bins)\n",
    "    plotShape(data, pdf, lolimit, hilimit, 100 )\n",
    "\n",
    "    #Some statistics\n",
    "    averageDecayTime = np.average(data)\n",
    "    print(\"\\nThe average decay time is \"+str(averageDecayTime)+'ps')\n",
    "    \n",
    "    #output the expected statistical precision from the experiment\n",
    "    stddev =  np.std(data)\n",
    "    print(\"\\nThe expected precision of a single experiment (from stddev)is \"+str(stddev))"
   ]
  },
  {
   "cell_type": "markdown",
   "metadata": {},
   "source": [
    "__singleToyFile__\n",
    "\n",
    "I essentially copy and paasted this code block from above, but with the added option of saving the data from the MC into a .txt file to be used later. My plan was to save the data to the .txt file to be used in the minimiser later and to allow for reproducability of results."
   ]
  },
  {
   "cell_type": "code",
   "execution_count": 5,
   "metadata": {},
   "outputs": [],
   "source": [
    "# Main code to generate and plot a single experiment\n",
    "\n",
    "def singleToyFile(nevents, filename):\n",
    "\n",
    "    #Set up intial values for the pdf\n",
    "    lolimit = 0.\n",
    "    hilimit = 10.\n",
    "    V = 0.1 \n",
    "    m = 20  \n",
    "    tau = 1.5  \n",
    "\n",
    "    #Create the pdf\n",
    "    pdf = Exponential(lolimit, hilimit, V, m, tau, nevents)\n",
    "    \n",
    "    #Generate a single experiment\n",
    "    data = pdf.next()\n",
    "    file = open(filename, 'w')\n",
    "    for j in range(0,len(data)):\n",
    "        file.write(str(data[j])+'\\n')\n",
    "    file.close()\n",
    "    \n",
    "    #Plot function and data\n",
    "    plotShape(data, pdf, lolimit, hilimit, 100 )\n",
    "\n",
    "    #Some statistics\n",
    "    averageDecayTime = np.average(data)\n",
    "    print(\"\\nThe average decay time is \"+str(averageDecayTime)+\"ps\")\n",
    "    \n",
    "    #output the expected statistical precision from the experiment\n",
    "    stddev =  np.std(data)\n",
    "    print(\"\\nThe expected precision of a single experiment (from stddev)is \"+str(stddev))\n"
   ]
  },
  {
   "cell_type": "markdown",
   "metadata": {},
   "source": [
    "__Multiple_MC_unedited__(number of events, number of simulations, [1 = plot graphs, anything else doesn't])\n",
    "\n",
    "This def starts the same as singleToy, however it has a minimiser included, and runs over a multiple of MC simulations defined as nMC. This def creates a number of nMCs, saves the values for V, m and tau to a list and then takes the standard deviation of the list to find the expected precision of the experiment. There is also the option to plot the graphs of the data that the standard deviation value comes from. If set to 0, the graphs will not print, if set to 1, they will. \n",
    "\n",
    "I had trouble with the minimiser where it wouldn't just take V as an input, i.e.  \n",
    "              m = Minuit((tmin.evaluate), V=params[0], m=params[1], tau=params[2],  \n",
    "setting V=V threw an error and I didn't want to change the rest of the code so I just added V, m and tau to a list and set V, m and tau in the minimiser equal to those list indices.\n"
   ]
  },
  {
   "cell_type": "code",
   "execution_count": 6,
   "metadata": {},
   "outputs": [],
   "source": [
    "# Main code to generate and plot a single experiment\n",
    "\n",
    "def Multiple_MC_unedited(nevents, nMC, graphs):\n",
    "    \n",
    "    V_list=[]\n",
    "    m_list=[]\n",
    "    tau_list=[]\n",
    "    for i in range(nMC):\n",
    "        #Set up intial values for the pdf\n",
    "        lolimit = 0.\n",
    "        hilimit = 10.\n",
    "        V = 0.1 \n",
    "        m = 20  \n",
    "        tau = 1.5  \n",
    "\n",
    "        #Create the pdf\n",
    "        pdf = Exponential(lolimit, hilimit, V, m, tau, nevents)\n",
    "        data = pdf.next()\n",
    "        params = [0.1,20.,1.5]\n",
    "        tmin = NegLLcalc(data,normed_exp)\n",
    "        # call an instance of Minuit for the new pdf and predicted values\n",
    "        m = Minuit((tmin.evaluate), V=params[0], m=params[1], tau=params[2], errordef=0.5, pedantic=False, print_level=0)\n",
    "        # Perform fit\n",
    "        m.migrad()\n",
    "        # Estimate/refine error matrix\n",
    "        m.hesse()\n",
    "        # Get best-fit parameter values\n",
    "        V_list.append(m.values[0])\n",
    "        m_list.append(m.values[1])\n",
    "        tau_list.append(m.values[2])\n",
    "    V_list_std = np.std(V_list)\n",
    "    m_list_std = np.std(m_list)\n",
    "    tau_list_std = np.std(tau_list)\n",
    "    \n",
    "    # condition to produce graphs, not everybody wants to see them.\n",
    "    if (graphs==1):\n",
    "        f, (ax1, ax2, ax3) = plt.subplots(1, 3, sharex=True)\n",
    "        ax1.set_title('V precision')\n",
    "        ax1.plot(V_list, '-o')\n",
    "        ax2.set_title('m precision')\n",
    "        ax2.plot(m_list, '-o')\n",
    "        ax3.set_title('tau precision')\n",
    "        ax3.plot(tau_list, '-o')\n",
    "        plt.show()\n",
    "\n",
    "  #  print(\"\\nThe expected precision of %i MC simulations (from stddev)for %i events for: \\nV, %.4f \\nm, %.4f \\ntau, %.4f \" %(nMC,nevents,V_list_std,m_list_std,tau_list_std))\n",
    "    \n",
    "    return [V_list_std, m_list_std, tau_list_std, V_list, m_list, tau_list]"
   ]
  },
  {
   "cell_type": "markdown",
   "metadata": {},
   "source": [
    "__MINIMISER__"
   ]
  },
  {
   "cell_type": "markdown",
   "metadata": {},
   "source": [
    "__class NegLLcalc()__\n",
    "\n",
    "Bases off the minimiser in the solutions on learn again. The class has a constructor that takes the data and the functions and evaluates it. The evaluate function takes V, m and tau as inputs and uses the data and the function to produce pdf2. pdf2 has constraints placed on it to prevent negative numbers, logs of 0 or NaNs. if below 0, the value input in the brackets is used and the function has no upper limit so infinity is used"
   ]
  },
  {
   "cell_type": "code",
   "execution_count": 7,
   "metadata": {},
   "outputs": [],
   "source": [
    "# To calcualte an NLL from a dataset and a pdf\n",
    "class NegLLcalc():\n",
    "\n",
    "    def __init__(self,newdata,pdf):\n",
    "        self.newdata = np.array(newdata)\n",
    "        self.pdf = pdf\n",
    "    \n",
    "    def evaluate(self,V,m,tau):\n",
    "        pdf2 = self.pdf(self.newdata,V,m,tau)\n",
    "        pdf2 = np.clip(pdf2,0.0000000001,np.inf)\n",
    "        log_pdf = np.log(pdf2)\n",
    "        nll = -sum(log_pdf)\n",
    "        return nll"
   ]
  },
  {
   "cell_type": "markdown",
   "metadata": {},
   "source": [
    "__normed_exp__\n",
    "\n",
    "this is just the pdf to be input into the minimiser, it has the same form as the pdf in the previous sections but normed within the function instead of outside it."
   ]
  },
  {
   "cell_type": "code",
   "execution_count": 8,
   "metadata": {},
   "outputs": [],
   "source": [
    "def normed_exp(t,V,m,tau):\n",
    "    norm = (quad(lambda t: ((1.+V*np.sin(m*t))*np.exp(-t/tau)),0,10)[0])\n",
    "    norm_dist = (1./norm)*((1+V*np.sin(m*t))*np.exp(-t/tau))\n",
    "    return norm_dist"
   ]
  },
  {
   "cell_type": "markdown",
   "metadata": {},
   "source": [
    "__myminimiser__\n",
    "\n",
    "takes a file, specified in the call. The data is read, passed to the NegLLcalc with the normalised function and then minuit is called to perform. Minuit fits the data and estimates errors, the function then prints the values and errors to be seen where the function is called."
   ]
  },
  {
   "cell_type": "code",
   "execution_count": 9,
   "metadata": {},
   "outputs": [],
   "source": [
    "def myminimiser(filename):\n",
    "    params = [0.1,20.,1.5]\n",
    "    data = np.loadtxt(filename)\n",
    "    tmin = NegLLcalc(data,normed_exp)\n",
    "    # call an instance of Minuit for the new pdf and predicted values\n",
    "    m = Minuit((tmin.evaluate), V=params[0], m=params[1], tau=params[2], errordef=0.5, pedantic=False)\n",
    "    # Perform fit\n",
    "    m.migrad()\n",
    "    # Estimate/refine error matrix\n",
    "    m.hesse()\n",
    "\n",
    "    print(\"\\nV= %.4f +- %.4f\\n\"%(m.values[0],m.errors[0]),\"m= %.4f +- %.4f\\n\"%(m.values[1],m.errors[1]),\"tau= %.4f +- %.4f\"%(m.values[2],m.errors[2]))"
   ]
  },
  {
   "cell_type": "markdown",
   "metadata": {},
   "source": [
    " ## PART 2 CODE"
   ]
  },
  {
   "cell_type": "markdown",
   "metadata": {},
   "source": [
    "__ExponentialGauss__\n",
    "\n",
    "For part 2, the aim was to estimate possible bias due to time resolution. So to incorporate the resolution (or random error) with a known standard deviation we define as 0.01*tau and 0.03*tau. The bias is measured by introducing the time into the pdf and then using the minimiser but without telling it about the resolution change.\n",
    "\n",
    "To do this, I added an extra def that draws from the drawSample def. tdep will call drawSample which will draw a value of t as normal, then tdep takes this value of t and uses it to take a different value of t from a guassian distribution centred around t_true with a width that we have already defined (I used frac, as defined in the object when given to the constructor). The new t value is drawn from another box method. The final step is to automate the process using iterate to produce a single value 10,000 times. Or however many times you like if you change nevents."
   ]
  },
  {
   "cell_type": "code",
   "execution_count": 10,
   "metadata": {},
   "outputs": [],
   "source": [
    "class ExponentialGauss:\n",
    "    \n",
    "    # Constructor\n",
    "    def __init__(self, lolim, hilim, V, m, tau, nevents, frac):\n",
    "        self.V = V\n",
    "        self.m = m\n",
    "        self.tau = tau\n",
    "        self.lolimit = lolim\n",
    "        self.nevents = nevents\n",
    "        self.hilimit = hilim\n",
    "        self.frac = frac\n",
    "        self.shape = lambda t: (1+V*np.sin(m*t))*np.exp(-t/tau)\n",
    "        self.max = findMax( self.shape, self.lolimit, self.hilimit )\n",
    "  \n",
    "    # Returns max value of function\n",
    "    def maxVal( self ) :\n",
    "        return self.max\n",
    "\n",
    "    # Evaluate method (un-normalised)\n",
    "    def evaluate(self, t ):\n",
    "        return self.shape(t)\n",
    " \n",
    "    # Evaluate method (normalised)\n",
    "    def evaluateNorm(self, t ):\n",
    "        return self.shape(t) / integrate.quad( self.shape, self.lolimit, self.hilimit)[0]\n",
    "    \n",
    "    # Draw data from a distribution\n",
    "    def drawSampleGauss(self):\n",
    "        ythrow = 1.\n",
    "        yval=0.\n",
    "        while ythrow > yval:\n",
    "            tthrow = self.lolimit + (self.hilimit-self.lolimit)* np.random.uniform()\n",
    "            ythrow = self.maxVal() * np.random.uniform()\n",
    "            yval =  self.evaluate(tthrow)\n",
    "        return tthrow\n",
    "\n",
    "    # Use the drawn data to produce a more accurate value of t based on a gaussian centred on t_true\n",
    "    def tdep(self):\n",
    "        data = self.drawSampleGauss()\n",
    "        sigma = self.frac*1.5\n",
    "        yval = 0 \n",
    "        ythrow = 1\n",
    "        while ythrow>yval:\n",
    "            tthrow = self.lolimit + (self.hilimit-self.lolimit)*np.random.uniform()\n",
    "            yval = np.exp(-((tthrow-data)**2)/(2*(sigma**2)))\n",
    "            ythrow = self.maxVal()* np.random.uniform()\n",
    "        return tthrow\n",
    "\n",
    "    # Loop the process to get nevents\n",
    "    def iteration(self):\n",
    "        decaytime=[]\n",
    "        for i in range(0,self.nevents):\n",
    "            decaytime.append(self.tdep())\n",
    "        return(decaytime)\n"
   ]
  },
  {
   "cell_type": "markdown",
   "metadata": {},
   "source": [
    "__singleToyGaussFile__\n",
    "\n",
    "I used this def to produce a single run (10000 events) with the gaussian time included. It draws on plotShape to plot a graph of the data. This was mostly for just a visual to direct and ideas I might get."
   ]
  },
  {
   "cell_type": "code",
   "execution_count": 11,
   "metadata": {},
   "outputs": [],
   "source": [
    "def singleToyGaussFile(filename, frac):\n",
    "\n",
    "    #Set up intial values for the pdf\n",
    "    lolimit = 0.\n",
    "    hilimit = 10.\n",
    "    V = 0.1 \n",
    "    m = 20  \n",
    "    tau = 1.5\n",
    "    nevents = 10000\n",
    "\n",
    "    #Create the pdf\n",
    "    pdf = ExponentialGauss(lolimit, hilimit, V, m, tau, nevents, frac)\n",
    "    \n",
    "    #Generate a single experiment\n",
    "    data = pdf.iteration()\n",
    "    file = open(filename, 'w')\n",
    "    for j in range(0,len(data)):\n",
    "        file.write(str(data[j])+'\\n')\n",
    "    file.close()\n",
    "    \n",
    "    #Plot function and data\n",
    "    plotShape(data, pdf, lolimit, hilimit,100)\n",
    "\n",
    "    #Some statistics\n",
    "    averageDecayTime = np.average(data)\n",
    "    print(\"\\nThe average decay time is \"+str(averageDecayTime)+\"ps\")\n",
    "    \n",
    "    #output the expected statistical precision from the experiment\n",
    "    stddev =  np.std(data)\n",
    "    print(\"\\nThe expected precision of a single experiment (from stddev)is \"+str(stddev))"
   ]
  },
  {
   "cell_type": "markdown",
   "metadata": {},
   "source": [
    "__multiple_MC_t_Gauss__\n",
    "\n",
    "This was my more complicated def. This def creates a number of MC sims (variable nMC) with a set number of events each (variable nevents). It was also edited to create lists of values for the parameters and their standard deviation for easier reach later. The pdf is created, then data is drawn and uses tdep and drawSample as described above. The data is then put into the minimiser and the parameters are computed. The parameters for each MC are stored into the list to allow me to calculate the std and use the raw data to plot graphs."
   ]
  },
  {
   "cell_type": "code",
   "execution_count": 12,
   "metadata": {},
   "outputs": [],
   "source": [
    "def multiple_MC_t_Gauss(frac, events, graphs):\n",
    "\n",
    "    # Lists for parameters from the minimiser, clears the list everytime you run.\n",
    "    Vg_list=[]\n",
    "    mg_list=[]\n",
    "    taug_list=[]\n",
    "    \n",
    "    # Number of MC simulations to run\n",
    "    for i in range(events):\n",
    "        #Set up intial values for the pdf\n",
    "        lolimit = 0.\n",
    "        hilimit = 10.\n",
    "        V = 0.1 \n",
    "        m = 20  \n",
    "        tau = 1.5\n",
    "        nevents = 10000\n",
    "\n",
    "        #Create the pdf\n",
    "        pdf = ExponentialGauss(lolimit, hilimit, V, m, tau, nevents, frac)\n",
    "\n",
    "        #Generate a single experiment\n",
    "        data = pdf.iteration()\n",
    "        params = [0.1,20.,1.5]\n",
    "        tmin = NegLLcalc(data,normed_exp)\n",
    "        # call an instance of Minuit for the new pdf and predicted values\n",
    "        m = Minuit((tmin.evaluate), V=params[0], m=params[1], tau=params[2], errordef=0.5, pedantic=False, print_level=0)\n",
    "        # Perform fit\n",
    "        m.migrad()\n",
    "        # Estimate/refine error matrix\n",
    "        m.hesse()\n",
    "        # Add values from the minimsation to the lists.\n",
    "        Vg_list.append(m.values[0])\n",
    "        mg_list.append(m.values[1])\n",
    "        taug_list.append(m.values[2])\n",
    "    # Calculate the std from the list for the precision    \n",
    "    Vg_list_std = np.std(Vg_list)\n",
    "    mg_list_std = np.std(mg_list)\n",
    "    taug_list_std = np.std(taug_list)\n",
    "    \n",
    "    # condition to plot the graphs.\n",
    "    if (graphs==1):\n",
    "        f, (ax1, ax2, ax3) = plt.subplots(1, 3, sharex=True)\n",
    "        ax1.set_title('V precision')\n",
    "        ax1.plot(Vg_list, '-o')\n",
    "        ax2.set_title('m precision')\n",
    "        ax2.plot(mg_list, '-o')\n",
    "        ax3.set_title('tau precision')\n",
    "        ax3.plot(taug_list, '-o')\n",
    "        plt.show()\n",
    "\n",
    " #   print(\"\\nThe expected precision of %i MC simulations (from stddev)for f=%.2f is, for: \\nV, %.4f \\nm, %.4f \\ntau, %.4f\" %(events,frac,Vg_list_std,mg_list_std,taug_list_std))\n",
    "    \n",
    "    return Vg_list_std, mg_list_std, taug_list_std, Vg_list,  mg_list, taug_list"
   ]
  },
  {
   "cell_type": "markdown",
   "metadata": {},
   "source": [
    "## PART 3 CODE"
   ]
  },
  {
   "cell_type": "markdown",
   "metadata": {},
   "source": [
    "At this point all the code below has been seen/explained previously"
   ]
  },
  {
   "cell_type": "code",
   "execution_count": 13,
   "metadata": {},
   "outputs": [],
   "source": [
    "class ExponentialTimeAcc:\n",
    "    \n",
    "    # Constructor\n",
    "    def __init__(self, lolim, hilim, V, m, tau, s, nevents):\n",
    "        self.V = V\n",
    "        self.m = m\n",
    "        self.tau = tau\n",
    "        self.lolimit = lolim\n",
    "        self.hilimit = hilim\n",
    "        self.s = s\n",
    "        self.nevents = nevents\n",
    "        self.shape = lambda t: ((1+V*np.sin(m*t))*np.exp(-t/tau))*(1+s*t)\n",
    "        self.max = findMax( self.shape, self.lolimit, self.hilimit )\n",
    "  \n",
    "    # Returns max value of function\n",
    "    def maxVal( self ) :\n",
    "        return self.max\n",
    "\n",
    "    # Evaluate method (un-normalised)\n",
    "    def evaluate(self, t ):\n",
    "        return self.shape(t)\n",
    " \n",
    "    # Evaluate method (normalised)\n",
    "    def evaluateNorm(self, t ):\n",
    "        return self.shape(t) / integrate.quad( self.shape, self.lolimit, self.hilimit)[0]\n",
    "    \n",
    "    # Draw N random number from distribution\n",
    "    def next(self):\n",
    "        data  = drawSample(self, self.lolimit, self.hilimit, self.nevents)\n",
    "        return data"
   ]
  },
  {
   "cell_type": "code",
   "execution_count": 14,
   "metadata": {},
   "outputs": [],
   "source": [
    "def ToyTimeAccFile(filename, nMC, s, graphs):\n",
    "\n",
    "    Vt_list=[]\n",
    "    mt_list=[]\n",
    "    taut_list=[]\n",
    "    \n",
    "    for i in range(nMC):\n",
    "        lolimit = 0.\n",
    "        hilimit = 10.\n",
    "        V = 0.1 \n",
    "        m = 20  \n",
    "        tau = 1.5 \n",
    "        nevents=10000\n",
    "\n",
    "        #Create the pdf\n",
    "        pdf = ExponentialTimeAcc(lolimit, hilimit, V, m, tau, s, nevents)\n",
    "\n",
    "        #Generate a single experiment\n",
    "        data = pdf.next()\n",
    "        file = open(filename, 'w')\n",
    "        for j in range(0,len(data)):\n",
    "            file.write(str(data[j])+'\\n')\n",
    "        file.close()\n",
    "        params = [0.1,20.,1.5]\n",
    "        tmin = NegLLcalc(data,normed_exp)\n",
    "        # call an instance of Minuit for the new pdf and predicted values\n",
    "        m = Minuit((tmin.evaluate), V=params[0], m=params[1], tau=params[2], errordef=0.5, pedantic=False, print_level=0)\n",
    "        # Perform fit\n",
    "        m.migrad()\n",
    "        # Estimate/refine error matrix\n",
    "        m.hesse()\n",
    "        \n",
    "        Vt_list.append(m.values[0])\n",
    "        mt_list.append(m.values[1])\n",
    "        taut_list.append(m.values[2])\n",
    "    Vt_list_std = np.std(Vt_list)\n",
    "    mt_list_std = np.std(mt_list)\n",
    "    taut_list_std = np.std(taut_list)\n",
    "    \n",
    "    if (graphs==1):\n",
    "        f, (ax1, ax2, ax3) = plt.subplots(1, 3, sharex=True)\n",
    "        ax1.set_title('V precision')\n",
    "        ax1.plot(Vt_list, '-o')\n",
    "        ax2.set_title('m precision')\n",
    "        ax2.plot(mt_list, '-o')\n",
    "        ax3.set_title('tau precision')\n",
    "        ax3.plot(taut_list, '-o')\n",
    "        plt.show()\n",
    "\n",
    "    return Vt_list_std, mt_list_std, taut_list_std, Vt_list,  mt_list, taut_list"
   ]
  },
  {
   "cell_type": "markdown",
   "metadata": {},
   "source": [
    "# PART 1"
   ]
  },
  {
   "cell_type": "code",
   "execution_count": 15,
   "metadata": {
    "scrolled": true
   },
   "outputs": [
    {
     "data": {
      "image/png": "[encoded data removed]",
      "text/plain": [
       "<Figure size 432x288 with 1 Axes>"
      ]
     },
     "metadata": {
      "needs_background": "light"
     },
     "output_type": "display_data"
    },
    {
     "name": "stdout",
     "output_type": "stream",
     "text": [
      "\n",
      "The average decay time is 1.4913226727120323ps\n",
      "\n",
      "The expected precision of a single experiment (from stddev)is 1.4757798235506985\n"
     ]
    }
   ],
   "source": [
    "singleToyFile(10000, 'tenthoudata.txt')"
   ]
  },
  {
   "cell_type": "markdown",
   "metadata": {},
   "source": [
    "This shows the sinusoidal oscillations and exponential decay. From the outset we can see the shape of the graph is what we expected and that on the surface, the code is running as it should be. The average decay time is also what we would expect, $\\approx$ tau. The data is normalised but is displayed in a box plot so it is hard to see."
   ]
  },
  {
   "cell_type": "code",
   "execution_count": 16,
   "metadata": {},
   "outputs": [
    {
     "data": {
      "image/png": "[encoded data removed]",
      "text/plain": [
       "<Figure size 432x288 with 1 Axes>"
      ]
     },
     "metadata": {
      "needs_background": "light"
     },
     "output_type": "display_data"
    },
    {
     "name": "stdout",
     "output_type": "stream",
     "text": [
      "\n",
      "The average decay time is 1.4812078111159852ps\n",
      "\n",
      "The expected precision of a single experiment (from stddev)is 1.454070729734958\n"
     ]
    }
   ],
   "source": [
    "singleToyFile(100000, 'hundthoudata.txt')"
   ]
  },
  {
   "cell_type": "markdown",
   "metadata": {},
   "source": [
    "As you can see, from the first graph (10000 events) compared to the second graph (100000 events). The value of the average decay time gets closer to the real decay time but the expected precision is closer to the value from the data. The more events you plot, the better precision you can hope to find. It is also worth noting that at this low level of events, statistical fluctuations could cause the average decay time for the second graph to be closer to the real value than the first."
   ]
  },
  {
   "cell_type": "code",
   "execution_count": 17,
   "metadata": {},
   "outputs": [
    {
     "data": {
      "image/png": "[encoded data removed]",
      "text/plain": [
       "<Figure size 432x288 with 1 Axes>"
      ]
     },
     "metadata": {
      "needs_background": "light"
     },
     "output_type": "display_data"
    },
    {
     "name": "stdout",
     "output_type": "stream",
     "text": [
      "\n",
      "The average decay time is 1.4800201905477282ps\n",
      "\n",
      "The expected precision of a single experiment (from stddev)is 1.4554220274576017\n"
     ]
    }
   ],
   "source": [
    "singleToy(1000000)"
   ]
  },
  {
   "cell_type": "markdown",
   "metadata": {},
   "source": [
    "jusitfied by the Law of Large Numbers, the sample mean will approach the expected value with increasing events and its variance will decrease as 1/events. Thus as we increase events, the precision will get better and better."
   ]
  },
  {
   "cell_type": "code",
   "execution_count": 18,
   "metadata": {},
   "outputs": [
    {
     "data": {
      "text/html": [
       "<hr>"
      ]
     },
     "metadata": {},
     "output_type": "display_data"
    },
    {
     "data": {
      "text/html": [
       "<table>\n",
       "    <tr>\n",
       "        <td title=\"Minimum value of function\">FCN = 13950.837751987141</td>\n",
       "        <td title=\"Total number of call to FCN so far\">TOTAL NCALL = 59</td>\n",
       "        <td title=\"Number of call in last migrad\">NCALLS = 59</td>\n",
       "    </tr>\n",
       "    <tr>\n",
       "        <td title=\"Estimated distance to minimum\">EDM = 1.1599410075454306e-07</td>\n",
       "        <td title=\"Maximum EDM definition of convergence\">GOAL EDM = 5e-06</td>\n",
       "        <td title=\"Error def. Amount of increase in FCN to be defined as 1 standard deviation\">\n",
       "        UP = 0.5</td>\n",
       "    </tr>\n",
       "</table>\n",
       "<table>\n",
       "    <tr>\n",
       "        <td align=\"center\" title=\"Validity of the migrad call\">Valid</td>\n",
       "        <td align=\"center\" title=\"Validity of parameters\">Valid Param</td>\n",
       "        <td align=\"center\" title=\"Is Covariance matrix accurate?\">Accurate Covar</td>\n",
       "        <td align=\"center\" title=\"Positive definiteness of covariance matrix\">PosDef</td>\n",
       "        <td align=\"center\" title=\"Was covariance matrix made posdef by adding diagonal element\">Made PosDef</td>\n",
       "    </tr>\n",
       "    <tr>\n",
       "        <td align=\"center\" style=\"background-color:#92CCA6\">True</td>\n",
       "        <td align=\"center\" style=\"background-color:#92CCA6\">True</td>\n",
       "        <td align=\"center\" style=\"background-color:#92CCA6\">True</td>\n",
       "        <td align=\"center\" style=\"background-color:#92CCA6\">True</td>\n",
       "        <td align=\"center\" style=\"background-color:#92CCA6\">False</td>\n",
       "    </tr>\n",
       "    <tr>\n",
       "        <td align=\"center\" title=\"Was last hesse call fail?\">Hesse Fail</td>\n",
       "        <td align=\"center\" title=\"Validity of covariance\">HasCov</td>\n",
       "        <td align=\"center\" title=\"Is EDM above goal EDM?\">Above EDM</td>\n",
       "        <td align=\"center\"></td>\n",
       "        <td align=\"center\" title=\"Did last migrad call reach max call limit?\">Reach calllim</td>\n",
       "    </tr>\n",
       "    <tr>\n",
       "        <td align=\"center\" style=\"background-color:#92CCA6\">False</td>\n",
       "        <td align=\"center\" style=\"background-color:#92CCA6\">True</td>\n",
       "        <td align=\"center\" style=\"background-color:#92CCA6\">False</td>\n",
       "        <td align=\"center\"></td>\n",
       "        <td align=\"center\" style=\"background-color:#92CCA6\">False</td>\n",
       "    </tr>\n",
       "</table>"
      ]
     },
     "metadata": {},
     "output_type": "display_data"
    },
    {
     "data": {
      "text/html": [
       "<table>\n",
       "    <tr>\n",
       "        <td><a href=\"#\" onclick=\"$('#flWsQrvXec').toggle()\">+</a></td>\n",
       "        <td title=\"Variable name\">Name</td>\n",
       "        <td title=\"Value of parameter\">Value</td>\n",
       "        <td title=\"Hesse error\">Hesse Error</td>\n",
       "        <td title=\"Minos lower error\">Minos Error-</td>\n",
       "        <td title=\"Minos upper error\">Minos Error+</td>\n",
       "        <td title=\"Lower limit of the parameter\">Limit-</td>\n",
       "        <td title=\"Upper limit of the parameter\">Limit+</td>\n",
       "        <td title=\"Is the parameter fixed in the fit\">Fixed?</td>\n",
       "    </tr>\n",
       "    <tr>\n",
       "        <td>0</td>\n",
       "        <td>V</td>\n",
       "        <td>0.116259</td>\n",
       "        <td>0.0142363</td>\n",
       "        <td></td>\n",
       "        <td></td>\n",
       "        <td></td>\n",
       "        <td></td>\n",
       "        <td>No</td>\n",
       "    </tr>\n",
       "    <tr>\n",
       "        <td>1</td>\n",
       "        <td>m</td>\n",
       "        <td>20.0958</td>\n",
       "        <td>0.0556918</td>\n",
       "        <td></td>\n",
       "        <td></td>\n",
       "        <td></td>\n",
       "        <td></td>\n",
       "        <td>No</td>\n",
       "    </tr>\n",
       "    <tr>\n",
       "        <td>2</td>\n",
       "        <td>tau</td>\n",
       "        <td>1.5104</td>\n",
       "        <td>0.0155847</td>\n",
       "        <td></td>\n",
       "        <td></td>\n",
       "        <td></td>\n",
       "        <td></td>\n",
       "        <td>No</td>\n",
       "    </tr>\n",
       "</table>\n",
       "<pre id=\"flWsQrvXec\" style=\"display:none;\">\n",
       "<textarea rows=\"12\" cols=\"50\" onclick=\"this.select()\" readonly>\n",
       "\\begin{tabular}{|c|r|r|r|r|r|r|r|c|}\n",
       "\\hline\n",
       " & Name & Value & Hesse Error & Minos Error- & Minos Error+ & Limit- & Limit+ & Fixed?\\\\\n",
       "\\hline\n",
       "0 & V & 0.116259 & 0.0142363 &  &  &  &  & No\\\\\n",
       "\\hline\n",
       "1 & m & 20.0958 & 0.0556918 &  &  &  &  & No\\\\\n",
       "\\hline\n",
       "2 & $\\tau$ & 1.5104 & 0.0155847 &  &  &  &  & No\\\\\n",
       "\\hline\n",
       "\\end{tabular}\n",
       "</textarea>\n",
       "</pre>"
      ]
     },
     "metadata": {},
     "output_type": "display_data"
    },
    {
     "data": {
      "text/html": [
       "<hr>"
      ]
     },
     "metadata": {},
     "output_type": "display_data"
    },
    {
     "data": {
      "text/html": [
       "<table>\n",
       "    <tr>\n",
       "        <td><a href=\"#\" onclick=\"$('#HWsTuhPALY').toggle()\">+</a></td>\n",
       "        <td title=\"Variable name\">Name</td>\n",
       "        <td title=\"Value of parameter\">Value</td>\n",
       "        <td title=\"Hesse error\">Hesse Error</td>\n",
       "        <td title=\"Minos lower error\">Minos Error-</td>\n",
       "        <td title=\"Minos upper error\">Minos Error+</td>\n",
       "        <td title=\"Lower limit of the parameter\">Limit-</td>\n",
       "        <td title=\"Upper limit of the parameter\">Limit+</td>\n",
       "        <td title=\"Is the parameter fixed in the fit\">Fixed?</td>\n",
       "    </tr>\n",
       "    <tr>\n",
       "        <td>0</td>\n",
       "        <td>V</td>\n",
       "        <td>0.116259</td>\n",
       "        <td>0.0142363</td>\n",
       "        <td></td>\n",
       "        <td></td>\n",
       "        <td></td>\n",
       "        <td></td>\n",
       "        <td>No</td>\n",
       "    </tr>\n",
       "    <tr>\n",
       "        <td>1</td>\n",
       "        <td>m</td>\n",
       "        <td>20.0958</td>\n",
       "        <td>0.0556918</td>\n",
       "        <td></td>\n",
       "        <td></td>\n",
       "        <td></td>\n",
       "        <td></td>\n",
       "        <td>No</td>\n",
       "    </tr>\n",
       "    <tr>\n",
       "        <td>2</td>\n",
       "        <td>tau</td>\n",
       "        <td>1.5104</td>\n",
       "        <td>0.0155847</td>\n",
       "        <td></td>\n",
       "        <td></td>\n",
       "        <td></td>\n",
       "        <td></td>\n",
       "        <td>No</td>\n",
       "    </tr>\n",
       "</table>\n",
       "<pre id=\"HWsTuhPALY\" style=\"display:none;\">\n",
       "<textarea rows=\"12\" cols=\"50\" onclick=\"this.select()\" readonly>\n",
       "\\begin{tabular}{|c|r|r|r|r|r|r|r|c|}\n",
       "\\hline\n",
       " & Name & Value & Hesse Error & Minos Error- & Minos Error+ & Limit- & Limit+ & Fixed?\\\\\n",
       "\\hline\n",
       "0 & V & 0.116259 & 0.0142363 &  &  &  &  & No\\\\\n",
       "\\hline\n",
       "1 & m & 20.0958 & 0.0556918 &  &  &  &  & No\\\\\n",
       "\\hline\n",
       "2 & $\\tau$ & 1.5104 & 0.0155847 &  &  &  &  & No\\\\\n",
       "\\hline\n",
       "\\end{tabular}\n",
       "</textarea>\n",
       "</pre>"
      ]
     },
     "metadata": {},
     "output_type": "display_data"
    },
    {
     "data": {
      "text/html": [
       "<table>\n",
       "    <tr>\n",
       "        <td><a onclick=\"$('#VTFJZEkLFb').toggle()\" href=\"#\">+</a></td> <td>V</td> <td>m</td> <td>tau</td>\n",
       "    </tr>\n",
       "    <tr>\n",
       "        <td>V</td> <td style=\"background-color:rgb(255,117,117)\">1.00</td> <td style=\"background-color:rgb(163,254,186)\">-0.00</td> <td style=\"background-color:rgb(167,247,183)\">0.05</td>\n",
       "    </tr>\n",
       "    <tr>\n",
       "        <td>m</td> <td style=\"background-color:rgb(163,254,186)\">-0.00</td> <td style=\"background-color:rgb(255,117,117)\">1.00</td> <td style=\"background-color:rgb(163,254,186)\">-0.00</td>\n",
       "    </tr>\n",
       "    <tr>\n",
       "        <td>tau</td> <td style=\"background-color:rgb(167,247,183)\">0.05</td> <td style=\"background-color:rgb(163,254,186)\">-0.00</td> <td style=\"background-color:rgb(255,117,117)\">1.00</td>\n",
       "    </tr>\n",
       "</table>\n",
       "<pre id=\"VTFJZEkLFb\" style=\"display:none;\">\n",
       "<textarea rows=\"15\" cols=\"50\" onclick=\"this.select()\" readonly>\n",
       "%\\usepackage[table]{xcolor} % include this for color\n",
       "%\\usepackage{rotating} % include this for rotate header\n",
       "%\\documentclass[xcolor=table]{beamer} % for beamer\n",
       "\\begin{tabular}{|c|c|c|c|}\n",
       "\\hline\n",
       "\\rotatebox{90}{} & \\rotatebox{90}{V} & \\rotatebox{90}{m} & \\rotatebox{90}{$\\tau$}\\\\\n",
       "\\hline\n",
       "V & \\cellcolor[RGB]{255,117,117} 1.00 & \\cellcolor[RGB]{163,254,186} -0.00 & \\cellcolor[RGB]{167,247,183} 0.05\\\\\n",
       "\\hline\n",
       "m & \\cellcolor[RGB]{163,254,186} -0.00 & \\cellcolor[RGB]{255,117,117} 1.00 & \\cellcolor[RGB]{163,254,186} -0.00\\\\\n",
       "\\hline\n",
       "$\\tau$ & \\cellcolor[RGB]{167,247,183} 0.05 & \\cellcolor[RGB]{163,254,186} -0.00 & \\cellcolor[RGB]{255,117,117} 1.00\\\\\n",
       "\\hline\n",
       "\\end{tabular}\n",
       "</textarea>\n",
       "</pre>"
      ]
     },
     "metadata": {},
     "output_type": "display_data"
    },
    {
     "name": "stdout",
     "output_type": "stream",
     "text": [
      "\n",
      "V= 0.1163 +- 0.0142\n",
      " m= 20.0958 +- 0.0557\n",
      " tau= 1.5104 +- 0.0156\n"
     ]
    }
   ],
   "source": [
    "myminimiser('tenthoudata.txt')"
   ]
  },
  {
   "cell_type": "markdown",
   "metadata": {},
   "source": [
    "The minimiser gives relatively similar errors to each of its parameters (in the sense that they are all 0.0x), however as expected, the error in m (or delta m in the ReportDescription) is much larger to match the magnitude of m compared to V and tau."
   ]
  },
  {
   "cell_type": "markdown",
   "metadata": {},
   "source": [
    "# PART 2"
   ]
  },
  {
   "cell_type": "code",
   "execution_count": 19,
   "metadata": {
    "scrolled": true
   },
   "outputs": [
    {
     "data": {
      "image/png": "[encoded data removed]",
      "text/plain": [
       "<Figure size 432x288 with 1 Axes>"
      ]
     },
     "metadata": {
      "needs_background": "light"
     },
     "output_type": "display_data"
    },
    {
     "name": "stdout",
     "output_type": "stream",
     "text": [
      "\n",
      "The average decay time is 1.4849322050941185ps\n",
      "\n",
      "The expected precision of a single experiment (from stddev)is 1.4601010432645722\n"
     ]
    }
   ],
   "source": [
    "singleToyGaussFile(\"gaussdistdata_0.01.txt\", 0.01)"
   ]
  },
  {
   "cell_type": "markdown",
   "metadata": {},
   "source": [
    "This plot shows the data produced from the pdf where the gaussian time is introduced. The 0.01 in the def is for the fraction, f. The trend looks the same, the average decay time is still roughly centred on tau, with the precision now even better than PART 1."
   ]
  },
  {
   "cell_type": "code",
   "execution_count": 20,
   "metadata": {
    "scrolled": true
   },
   "outputs": [
    {
     "data": {
      "text/html": [
       "<hr>"
      ]
     },
     "metadata": {},
     "output_type": "display_data"
    },
    {
     "data": {
      "text/html": [
       "<table>\n",
       "    <tr>\n",
       "        <td title=\"Minimum value of function\">FCN = 13912.292857224797</td>\n",
       "        <td title=\"Total number of call to FCN so far\">TOTAL NCALL = 46</td>\n",
       "        <td title=\"Number of call in last migrad\">NCALLS = 46</td>\n",
       "    </tr>\n",
       "    <tr>\n",
       "        <td title=\"Estimated distance to minimum\">EDM = 3.5947664538236884e-05</td>\n",
       "        <td title=\"Maximum EDM definition of convergence\">GOAL EDM = 5e-06</td>\n",
       "        <td title=\"Error def. Amount of increase in FCN to be defined as 1 standard deviation\">\n",
       "        UP = 0.5</td>\n",
       "    </tr>\n",
       "</table>\n",
       "<table>\n",
       "    <tr>\n",
       "        <td align=\"center\" title=\"Validity of the migrad call\">Valid</td>\n",
       "        <td align=\"center\" title=\"Validity of parameters\">Valid Param</td>\n",
       "        <td align=\"center\" title=\"Is Covariance matrix accurate?\">Accurate Covar</td>\n",
       "        <td align=\"center\" title=\"Positive definiteness of covariance matrix\">PosDef</td>\n",
       "        <td align=\"center\" title=\"Was covariance matrix made posdef by adding diagonal element\">Made PosDef</td>\n",
       "    </tr>\n",
       "    <tr>\n",
       "        <td align=\"center\" style=\"background-color:#92CCA6\">True</td>\n",
       "        <td align=\"center\" style=\"background-color:#92CCA6\">True</td>\n",
       "        <td align=\"center\" style=\"background-color:#92CCA6\">True</td>\n",
       "        <td align=\"center\" style=\"background-color:#92CCA6\">True</td>\n",
       "        <td align=\"center\" style=\"background-color:#92CCA6\">False</td>\n",
       "    </tr>\n",
       "    <tr>\n",
       "        <td align=\"center\" title=\"Was last hesse call fail?\">Hesse Fail</td>\n",
       "        <td align=\"center\" title=\"Validity of covariance\">HasCov</td>\n",
       "        <td align=\"center\" title=\"Is EDM above goal EDM?\">Above EDM</td>\n",
       "        <td align=\"center\"></td>\n",
       "        <td align=\"center\" title=\"Did last migrad call reach max call limit?\">Reach calllim</td>\n",
       "    </tr>\n",
       "    <tr>\n",
       "        <td align=\"center\" style=\"background-color:#92CCA6\">False</td>\n",
       "        <td align=\"center\" style=\"background-color:#92CCA6\">True</td>\n",
       "        <td align=\"center\" style=\"background-color:#92CCA6\">False</td>\n",
       "        <td align=\"center\"></td>\n",
       "        <td align=\"center\" style=\"background-color:#92CCA6\">False</td>\n",
       "    </tr>\n",
       "</table>"
      ]
     },
     "metadata": {},
     "output_type": "display_data"
    },
    {
     "data": {
      "text/html": [
       "<table>\n",
       "    <tr>\n",
       "        <td><a href=\"#\" onclick=\"$('#kdAMhQgohD').toggle()\">+</a></td>\n",
       "        <td title=\"Variable name\">Name</td>\n",
       "        <td title=\"Value of parameter\">Value</td>\n",
       "        <td title=\"Hesse error\">Hesse Error</td>\n",
       "        <td title=\"Minos lower error\">Minos Error-</td>\n",
       "        <td title=\"Minos upper error\">Minos Error+</td>\n",
       "        <td title=\"Lower limit of the parameter\">Limit-</td>\n",
       "        <td title=\"Upper limit of the parameter\">Limit+</td>\n",
       "        <td title=\"Is the parameter fixed in the fit\">Fixed?</td>\n",
       "    </tr>\n",
       "    <tr>\n",
       "        <td>0</td>\n",
       "        <td>V</td>\n",
       "        <td>0.10784</td>\n",
       "        <td>0.0140908</td>\n",
       "        <td></td>\n",
       "        <td></td>\n",
       "        <td></td>\n",
       "        <td></td>\n",
       "        <td>No</td>\n",
       "    </tr>\n",
       "    <tr>\n",
       "        <td>1</td>\n",
       "        <td>m</td>\n",
       "        <td>19.9174</td>\n",
       "        <td>0.062434</td>\n",
       "        <td></td>\n",
       "        <td></td>\n",
       "        <td></td>\n",
       "        <td></td>\n",
       "        <td>No</td>\n",
       "    </tr>\n",
       "    <tr>\n",
       "        <td>2</td>\n",
       "        <td>tau</td>\n",
       "        <td>1.50312</td>\n",
       "        <td>0.0154964</td>\n",
       "        <td></td>\n",
       "        <td></td>\n",
       "        <td></td>\n",
       "        <td></td>\n",
       "        <td>No</td>\n",
       "    </tr>\n",
       "</table>\n",
       "<pre id=\"kdAMhQgohD\" style=\"display:none;\">\n",
       "<textarea rows=\"12\" cols=\"50\" onclick=\"this.select()\" readonly>\n",
       "\\begin{tabular}{|c|r|r|r|r|r|r|r|c|}\n",
       "\\hline\n",
       " & Name & Value & Hesse Error & Minos Error- & Minos Error+ & Limit- & Limit+ & Fixed?\\\\\n",
       "\\hline\n",
       "0 & V & 0.10784 & 0.0140908 &  &  &  &  & No\\\\\n",
       "\\hline\n",
       "1 & m & 19.9174 & 0.062434 &  &  &  &  & No\\\\\n",
       "\\hline\n",
       "2 & $\\tau$ & 1.50312 & 0.0154964 &  &  &  &  & No\\\\\n",
       "\\hline\n",
       "\\end{tabular}\n",
       "</textarea>\n",
       "</pre>"
      ]
     },
     "metadata": {},
     "output_type": "display_data"
    },
    {
     "data": {
      "text/html": [
       "<hr>"
      ]
     },
     "metadata": {},
     "output_type": "display_data"
    },
    {
     "data": {
      "text/html": [
       "<table>\n",
       "    <tr>\n",
       "        <td><a href=\"#\" onclick=\"$('#rqyIeXzaft').toggle()\">+</a></td>\n",
       "        <td title=\"Variable name\">Name</td>\n",
       "        <td title=\"Value of parameter\">Value</td>\n",
       "        <td title=\"Hesse error\">Hesse Error</td>\n",
       "        <td title=\"Minos lower error\">Minos Error-</td>\n",
       "        <td title=\"Minos upper error\">Minos Error+</td>\n",
       "        <td title=\"Lower limit of the parameter\">Limit-</td>\n",
       "        <td title=\"Upper limit of the parameter\">Limit+</td>\n",
       "        <td title=\"Is the parameter fixed in the fit\">Fixed?</td>\n",
       "    </tr>\n",
       "    <tr>\n",
       "        <td>0</td>\n",
       "        <td>V</td>\n",
       "        <td>0.10784</td>\n",
       "        <td>0.0140908</td>\n",
       "        <td></td>\n",
       "        <td></td>\n",
       "        <td></td>\n",
       "        <td></td>\n",
       "        <td>No</td>\n",
       "    </tr>\n",
       "    <tr>\n",
       "        <td>1</td>\n",
       "        <td>m</td>\n",
       "        <td>19.9174</td>\n",
       "        <td>0.062434</td>\n",
       "        <td></td>\n",
       "        <td></td>\n",
       "        <td></td>\n",
       "        <td></td>\n",
       "        <td>No</td>\n",
       "    </tr>\n",
       "    <tr>\n",
       "        <td>2</td>\n",
       "        <td>tau</td>\n",
       "        <td>1.50312</td>\n",
       "        <td>0.0154964</td>\n",
       "        <td></td>\n",
       "        <td></td>\n",
       "        <td></td>\n",
       "        <td></td>\n",
       "        <td>No</td>\n",
       "    </tr>\n",
       "</table>\n",
       "<pre id=\"rqyIeXzaft\" style=\"display:none;\">\n",
       "<textarea rows=\"12\" cols=\"50\" onclick=\"this.select()\" readonly>\n",
       "\\begin{tabular}{|c|r|r|r|r|r|r|r|c|}\n",
       "\\hline\n",
       " & Name & Value & Hesse Error & Minos Error- & Minos Error+ & Limit- & Limit+ & Fixed?\\\\\n",
       "\\hline\n",
       "0 & V & 0.10784 & 0.0140908 &  &  &  &  & No\\\\\n",
       "\\hline\n",
       "1 & m & 19.9174 & 0.062434 &  &  &  &  & No\\\\\n",
       "\\hline\n",
       "2 & $\\tau$ & 1.50312 & 0.0154964 &  &  &  &  & No\\\\\n",
       "\\hline\n",
       "\\end{tabular}\n",
       "</textarea>\n",
       "</pre>"
      ]
     },
     "metadata": {},
     "output_type": "display_data"
    },
    {
     "data": {
      "text/html": [
       "<table>\n",
       "    <tr>\n",
       "        <td><a onclick=\"$('#rZbBagmSGJ').toggle()\" href=\"#\">+</a></td> <td>V</td> <td>m</td> <td>tau</td>\n",
       "    </tr>\n",
       "    <tr>\n",
       "        <td>V</td> <td style=\"background-color:rgb(255,117,117)\">1.00</td> <td style=\"background-color:rgb(164,253,185)\">-0.01</td> <td style=\"background-color:rgb(167,248,183)\">0.05</td>\n",
       "    </tr>\n",
       "    <tr>\n",
       "        <td>m</td> <td style=\"background-color:rgb(164,253,185)\">-0.01</td> <td style=\"background-color:rgb(255,117,117)\">1.00</td> <td style=\"background-color:rgb(163,254,186)\">0.00</td>\n",
       "    </tr>\n",
       "    <tr>\n",
       "        <td>tau</td> <td style=\"background-color:rgb(167,248,183)\">0.05</td> <td style=\"background-color:rgb(163,254,186)\">0.00</td> <td style=\"background-color:rgb(255,117,117)\">1.00</td>\n",
       "    </tr>\n",
       "</table>\n",
       "<pre id=\"rZbBagmSGJ\" style=\"display:none;\">\n",
       "<textarea rows=\"15\" cols=\"50\" onclick=\"this.select()\" readonly>\n",
       "%\\usepackage[table]{xcolor} % include this for color\n",
       "%\\usepackage{rotating} % include this for rotate header\n",
       "%\\documentclass[xcolor=table]{beamer} % for beamer\n",
       "\\begin{tabular}{|c|c|c|c|}\n",
       "\\hline\n",
       "\\rotatebox{90}{} & \\rotatebox{90}{V} & \\rotatebox{90}{m} & \\rotatebox{90}{$\\tau$}\\\\\n",
       "\\hline\n",
       "V & \\cellcolor[RGB]{255,117,117} 1.00 & \\cellcolor[RGB]{164,253,185} -0.01 & \\cellcolor[RGB]{167,248,183} 0.05\\\\\n",
       "\\hline\n",
       "m & \\cellcolor[RGB]{164,253,185} -0.01 & \\cellcolor[RGB]{255,117,117} 1.00 & \\cellcolor[RGB]{163,254,186} 0.00\\\\\n",
       "\\hline\n",
       "$\\tau$ & \\cellcolor[RGB]{167,248,183} 0.05 & \\cellcolor[RGB]{163,254,186} 0.00 & \\cellcolor[RGB]{255,117,117} 1.00\\\\\n",
       "\\hline\n",
       "\\end{tabular}\n",
       "</textarea>\n",
       "</pre>"
      ]
     },
     "metadata": {},
     "output_type": "display_data"
    },
    {
     "name": "stdout",
     "output_type": "stream",
     "text": [
      "\n",
      "V= 0.1078 +- 0.0141\n",
      " m= 19.9174 +- 0.0624\n",
      " tau= 1.5031 +- 0.0155\n"
     ]
    }
   ],
   "source": [
    "myminimiser('gaussdistdata_0.01.txt')"
   ]
  },
  {
   "cell_type": "code",
   "execution_count": 21,
   "metadata": {
    "scrolled": true
   },
   "outputs": [
    {
     "data": {
      "image/png": "[encoded data removed]",
      "text/plain": [
       "<Figure size 432x288 with 1 Axes>"
      ]
     },
     "metadata": {
      "needs_background": "light"
     },
     "output_type": "display_data"
    },
    {
     "name": "stdout",
     "output_type": "stream",
     "text": [
      "\n",
      "The average decay time is 1.4915659079073824ps\n",
      "\n",
      "The expected precision of a single experiment (from stddev)is 1.4600891011670698\n"
     ]
    }
   ],
   "source": [
    "singleToyGaussFile(\"gaussdistdata_0.03.txt\", 0.03)"
   ]
  },
  {
   "cell_type": "markdown",
   "metadata": {},
   "source": [
    "Increasing f, or the width of the gaussian dist around t_true, decreases the precision of the experiment. As we can see here, the precision of the first graph (where f=0.01) is lower than compared to this graph (f=0.03)."
   ]
  },
  {
   "cell_type": "code",
   "execution_count": 22,
   "metadata": {
    "scrolled": false
   },
   "outputs": [
    {
     "data": {
      "text/html": [
       "<hr>"
      ]
     },
     "metadata": {},
     "output_type": "display_data"
    },
    {
     "data": {
      "text/html": [
       "<table>\n",
       "    <tr>\n",
       "        <td title=\"Minimum value of function\">FCN = 13980.264686792107</td>\n",
       "        <td title=\"Total number of call to FCN so far\">TOTAL NCALL = 61</td>\n",
       "        <td title=\"Number of call in last migrad\">NCALLS = 61</td>\n",
       "    </tr>\n",
       "    <tr>\n",
       "        <td title=\"Estimated distance to minimum\">EDM = 2.5219001337924013e-06</td>\n",
       "        <td title=\"Maximum EDM definition of convergence\">GOAL EDM = 5e-06</td>\n",
       "        <td title=\"Error def. Amount of increase in FCN to be defined as 1 standard deviation\">\n",
       "        UP = 0.5</td>\n",
       "    </tr>\n",
       "</table>\n",
       "<table>\n",
       "    <tr>\n",
       "        <td align=\"center\" title=\"Validity of the migrad call\">Valid</td>\n",
       "        <td align=\"center\" title=\"Validity of parameters\">Valid Param</td>\n",
       "        <td align=\"center\" title=\"Is Covariance matrix accurate?\">Accurate Covar</td>\n",
       "        <td align=\"center\" title=\"Positive definiteness of covariance matrix\">PosDef</td>\n",
       "        <td align=\"center\" title=\"Was covariance matrix made posdef by adding diagonal element\">Made PosDef</td>\n",
       "    </tr>\n",
       "    <tr>\n",
       "        <td align=\"center\" style=\"background-color:#92CCA6\">True</td>\n",
       "        <td align=\"center\" style=\"background-color:#92CCA6\">True</td>\n",
       "        <td align=\"center\" style=\"background-color:#92CCA6\">True</td>\n",
       "        <td align=\"center\" style=\"background-color:#92CCA6\">True</td>\n",
       "        <td align=\"center\" style=\"background-color:#92CCA6\">False</td>\n",
       "    </tr>\n",
       "    <tr>\n",
       "        <td align=\"center\" title=\"Was last hesse call fail?\">Hesse Fail</td>\n",
       "        <td align=\"center\" title=\"Validity of covariance\">HasCov</td>\n",
       "        <td align=\"center\" title=\"Is EDM above goal EDM?\">Above EDM</td>\n",
       "        <td align=\"center\"></td>\n",
       "        <td align=\"center\" title=\"Did last migrad call reach max call limit?\">Reach calllim</td>\n",
       "    </tr>\n",
       "    <tr>\n",
       "        <td align=\"center\" style=\"background-color:#92CCA6\">False</td>\n",
       "        <td align=\"center\" style=\"background-color:#92CCA6\">True</td>\n",
       "        <td align=\"center\" style=\"background-color:#92CCA6\">False</td>\n",
       "        <td align=\"center\"></td>\n",
       "        <td align=\"center\" style=\"background-color:#92CCA6\">False</td>\n",
       "    </tr>\n",
       "</table>"
      ]
     },
     "metadata": {},
     "output_type": "display_data"
    },
    {
     "data": {
      "text/html": [
       "<table>\n",
       "    <tr>\n",
       "        <td><a href=\"#\" onclick=\"$('#ctctjCjmKh').toggle()\">+</a></td>\n",
       "        <td title=\"Variable name\">Name</td>\n",
       "        <td title=\"Value of parameter\">Value</td>\n",
       "        <td title=\"Hesse error\">Hesse Error</td>\n",
       "        <td title=\"Minos lower error\">Minos Error-</td>\n",
       "        <td title=\"Minos upper error\">Minos Error+</td>\n",
       "        <td title=\"Lower limit of the parameter\">Limit-</td>\n",
       "        <td title=\"Upper limit of the parameter\">Limit+</td>\n",
       "        <td title=\"Is the parameter fixed in the fit\">Fixed?</td>\n",
       "    </tr>\n",
       "    <tr>\n",
       "        <td>0</td>\n",
       "        <td>V</td>\n",
       "        <td>0.0465323</td>\n",
       "        <td>0.0141933</td>\n",
       "        <td></td>\n",
       "        <td></td>\n",
       "        <td></td>\n",
       "        <td></td>\n",
       "        <td>No</td>\n",
       "    </tr>\n",
       "    <tr>\n",
       "        <td>1</td>\n",
       "        <td>m</td>\n",
       "        <td>20.0502</td>\n",
       "        <td>0.138114</td>\n",
       "        <td></td>\n",
       "        <td></td>\n",
       "        <td></td>\n",
       "        <td></td>\n",
       "        <td>No</td>\n",
       "    </tr>\n",
       "    <tr>\n",
       "        <td>2</td>\n",
       "        <td>tau</td>\n",
       "        <td>1.50702</td>\n",
       "        <td>0.0155447</td>\n",
       "        <td></td>\n",
       "        <td></td>\n",
       "        <td></td>\n",
       "        <td></td>\n",
       "        <td>No</td>\n",
       "    </tr>\n",
       "</table>\n",
       "<pre id=\"ctctjCjmKh\" style=\"display:none;\">\n",
       "<textarea rows=\"12\" cols=\"50\" onclick=\"this.select()\" readonly>\n",
       "\\begin{tabular}{|c|r|r|r|r|r|r|r|c|}\n",
       "\\hline\n",
       " & Name & Value & Hesse Error & Minos Error- & Minos Error+ & Limit- & Limit+ & Fixed?\\\\\n",
       "\\hline\n",
       "0 & V & 0.0465323 & 0.0141933 &  &  &  &  & No\\\\\n",
       "\\hline\n",
       "1 & m & 20.0502 & 0.138114 &  &  &  &  & No\\\\\n",
       "\\hline\n",
       "2 & $\\tau$ & 1.50702 & 0.0155447 &  &  &  &  & No\\\\\n",
       "\\hline\n",
       "\\end{tabular}\n",
       "</textarea>\n",
       "</pre>"
      ]
     },
     "metadata": {},
     "output_type": "display_data"
    },
    {
     "data": {
      "text/html": [
       "<hr>"
      ]
     },
     "metadata": {},
     "output_type": "display_data"
    },
    {
     "data": {
      "text/html": [
       "<table>\n",
       "    <tr>\n",
       "        <td><a href=\"#\" onclick=\"$('#VcuDvQWhip').toggle()\">+</a></td>\n",
       "        <td title=\"Variable name\">Name</td>\n",
       "        <td title=\"Value of parameter\">Value</td>\n",
       "        <td title=\"Hesse error\">Hesse Error</td>\n",
       "        <td title=\"Minos lower error\">Minos Error-</td>\n",
       "        <td title=\"Minos upper error\">Minos Error+</td>\n",
       "        <td title=\"Lower limit of the parameter\">Limit-</td>\n",
       "        <td title=\"Upper limit of the parameter\">Limit+</td>\n",
       "        <td title=\"Is the parameter fixed in the fit\">Fixed?</td>\n",
       "    </tr>\n",
       "    <tr>\n",
       "        <td>0</td>\n",
       "        <td>V</td>\n",
       "        <td>0.0465323</td>\n",
       "        <td>0.0141933</td>\n",
       "        <td></td>\n",
       "        <td></td>\n",
       "        <td></td>\n",
       "        <td></td>\n",
       "        <td>No</td>\n",
       "    </tr>\n",
       "    <tr>\n",
       "        <td>1</td>\n",
       "        <td>m</td>\n",
       "        <td>20.0502</td>\n",
       "        <td>0.138114</td>\n",
       "        <td></td>\n",
       "        <td></td>\n",
       "        <td></td>\n",
       "        <td></td>\n",
       "        <td>No</td>\n",
       "    </tr>\n",
       "    <tr>\n",
       "        <td>2</td>\n",
       "        <td>tau</td>\n",
       "        <td>1.50702</td>\n",
       "        <td>0.0155447</td>\n",
       "        <td></td>\n",
       "        <td></td>\n",
       "        <td></td>\n",
       "        <td></td>\n",
       "        <td>No</td>\n",
       "    </tr>\n",
       "</table>\n",
       "<pre id=\"VcuDvQWhip\" style=\"display:none;\">\n",
       "<textarea rows=\"12\" cols=\"50\" onclick=\"this.select()\" readonly>\n",
       "\\begin{tabular}{|c|r|r|r|r|r|r|r|c|}\n",
       "\\hline\n",
       " & Name & Value & Hesse Error & Minos Error- & Minos Error+ & Limit- & Limit+ & Fixed?\\\\\n",
       "\\hline\n",
       "0 & V & 0.0465323 & 0.0141933 &  &  &  &  & No\\\\\n",
       "\\hline\n",
       "1 & m & 20.0502 & 0.138114 &  &  &  &  & No\\\\\n",
       "\\hline\n",
       "2 & $\\tau$ & 1.50702 & 0.0155447 &  &  &  &  & No\\\\\n",
       "\\hline\n",
       "\\end{tabular}\n",
       "</textarea>\n",
       "</pre>"
      ]
     },
     "metadata": {},
     "output_type": "display_data"
    },
    {
     "data": {
      "text/html": [
       "<table>\n",
       "    <tr>\n",
       "        <td><a onclick=\"$('#SmxhZFpsli').toggle()\" href=\"#\">+</a></td> <td>V</td> <td>m</td> <td>tau</td>\n",
       "    </tr>\n",
       "    <tr>\n",
       "        <td>V</td> <td style=\"background-color:rgb(255,117,117)\">1.00</td> <td style=\"background-color:rgb(163,254,186)\">-0.00</td> <td style=\"background-color:rgb(167,247,183)\">0.05</td>\n",
       "    </tr>\n",
       "    <tr>\n",
       "        <td>m</td> <td style=\"background-color:rgb(163,254,186)\">-0.00</td> <td style=\"background-color:rgb(255,117,117)\">1.00</td> <td style=\"background-color:rgb(163,254,186)\">-0.00</td>\n",
       "    </tr>\n",
       "    <tr>\n",
       "        <td>tau</td> <td style=\"background-color:rgb(167,247,183)\">0.05</td> <td style=\"background-color:rgb(163,254,186)\">-0.00</td> <td style=\"background-color:rgb(255,117,117)\">1.00</td>\n",
       "    </tr>\n",
       "</table>\n",
       "<pre id=\"SmxhZFpsli\" style=\"display:none;\">\n",
       "<textarea rows=\"15\" cols=\"50\" onclick=\"this.select()\" readonly>\n",
       "%\\usepackage[table]{xcolor} % include this for color\n",
       "%\\usepackage{rotating} % include this for rotate header\n",
       "%\\documentclass[xcolor=table]{beamer} % for beamer\n",
       "\\begin{tabular}{|c|c|c|c|}\n",
       "\\hline\n",
       "\\rotatebox{90}{} & \\rotatebox{90}{V} & \\rotatebox{90}{m} & \\rotatebox{90}{$\\tau$}\\\\\n",
       "\\hline\n",
       "V & \\cellcolor[RGB]{255,117,117} 1.00 & \\cellcolor[RGB]{163,254,186} -0.00 & \\cellcolor[RGB]{167,247,183} 0.05\\\\\n",
       "\\hline\n",
       "m & \\cellcolor[RGB]{163,254,186} -0.00 & \\cellcolor[RGB]{255,117,117} 1.00 & \\cellcolor[RGB]{163,254,186} -0.00\\\\\n",
       "\\hline\n",
       "$\\tau$ & \\cellcolor[RGB]{167,247,183} 0.05 & \\cellcolor[RGB]{163,254,186} -0.00 & \\cellcolor[RGB]{255,117,117} 1.00\\\\\n",
       "\\hline\n",
       "\\end{tabular}\n",
       "</textarea>\n",
       "</pre>"
      ]
     },
     "metadata": {},
     "output_type": "display_data"
    },
    {
     "name": "stdout",
     "output_type": "stream",
     "text": [
      "\n",
      "V= 0.0465 +- 0.0142\n",
      " m= 20.0502 +- 0.1381\n",
      " tau= 1.5070 +- 0.0155\n"
     ]
    }
   ],
   "source": [
    "myminimiser('gaussdistdata_0.03.txt')"
   ]
  },
  {
   "cell_type": "code",
   "execution_count": 23,
   "metadata": {},
   "outputs": [
    {
     "data": {
      "image/png": "[encoded data removed]",
      "text/plain": [
       "<Figure size 432x288 with 3 Axes>"
      ]
     },
     "metadata": {
      "needs_background": "light"
     },
     "output_type": "display_data"
    },
    {
     "data": {
      "image/png": "[encoded data removed]",
      "text/plain": [
       "<Figure size 432x288 with 3 Axes>"
      ]
     },
     "metadata": {
      "needs_background": "light"
     },
     "output_type": "display_data"
    },
    {
     "data": {
      "image/png": "[encoded data removed]",
      "text/plain": [
       "<Figure size 432x288 with 3 Axes>"
      ]
     },
     "metadata": {
      "needs_background": "light"
     },
     "output_type": "display_data"
    }
   ],
   "source": [
    "a = multiple_MC_t_Gauss(0.03, 10, 1)\n",
    "b = multiple_MC_t_Gauss(0.01, 10, 1)\n",
    "c = Multiple_MC_unedited(10000, 10, 1)"
   ]
  },
  {
   "cell_type": "markdown",
   "metadata": {},
   "source": [
    "This step was to set a benchmark to compare the rest of the data to, to calculate bias and time acceptance. It may also be insightful to see the variation in the paramaters for each MC simulation in your dataset, to spot any discrepencies."
   ]
  },
  {
   "cell_type": "markdown",
   "metadata": {},
   "source": [
    "All data sets show random oscillations around their true values (or optimal values we entered)."
   ]
  },
  {
   "cell_type": "code",
   "execution_count": 24,
   "metadata": {
    "scrolled": true
   },
   "outputs": [
    {
     "name": "stdout",
     "output_type": "stream",
     "text": [
      "Precision difference in V for 0.03/orignal: 0.0020852898169410362\n",
      "For reference, the precision of V in the original was: 0.007994710766976033\n",
      "For reference, the precision of V in f=0.03 was: 0.01008000058391707\n",
      "Giving a percentage difference of: 26.083367838081134%\n",
      "Precision difference in V for 0.01/orignal: 0.004349165410810466\n",
      "Giving a percentage difference of: 54.40053477326134%\n"
     ]
    }
   ],
   "source": [
    "print( 'Precision difference in V for 0.03/orignal: '+str(a[0]-c[0]))\n",
    "print( 'For reference, the precision of V in the original was: '+str(c[0]))\n",
    "print( 'For reference, the precision of V in f=0.03 was: '+str(a[0]))\n",
    "print( 'Giving a percentage difference of: '+str(((a[0]-c[0])/(c[0]))*100)+'%')\n",
    "print( 'Precision difference in V for 0.01/orignal: '+str(b[0]-c[0]))\n",
    "print( 'Giving a percentage difference of: '+str(((b[0]-c[0])/(c[0]))*100)+'%')"
   ]
  },
  {
   "cell_type": "markdown",
   "metadata": {},
   "source": [
    "The precision difference (difference precision of parameter V in the f=0.03 pdf and parameter V in the original dataset I have defined above as c. The very low number is deceiveing as the percentage difference is actually large. $\\approx$16% difference in precision is quite large. However, for the smaller value of f=0.01, the percentage difference between V and the original V was $\\approx$20%. The values are also negative, meaning our precision has decreased by adding the time resolution (as you would expect)."
   ]
  },
  {
   "cell_type": "code",
   "execution_count": 25,
   "metadata": {},
   "outputs": [
    {
     "name": "stdout",
     "output_type": "stream",
     "text": [
      "0.034739740065424574\n",
      "Giving a percentage difference of: 434.53404479527825%\n",
      "0.007148711647814519\n",
      "Giving a percentage difference of: -89.41801468720914%\n"
     ]
    }
   ],
   "source": [
    "print( np.abs(c[1]-a[1])) #Precision in m 0.03 - orignal\n",
    "print( 'Giving a percentage difference of: '+str(((a[1]-c[1])/(c[0]))*100)+'%')\n",
    "print( np.abs(c[1]-b[1])) #Precision in m 0.01 - orignal\n",
    "print( 'Giving a percentage difference of: '+str(((b[1]-c[1])/(c[0]))*100)+'%')"
   ]
  },
  {
   "cell_type": "markdown",
   "metadata": {},
   "source": [
    "Interestingly, for delta m, the precision increased and increased more, the higher the time resolution fraction, f, was."
   ]
  },
  {
   "cell_type": "code",
   "execution_count": 26,
   "metadata": {},
   "outputs": [
    {
     "name": "stdout",
     "output_type": "stream",
     "text": [
      "0.004135391217511785\n",
      "Giving a percentage difference of: 29.413909967677686%\n",
      "0.00022824261232866003\n",
      "Giving a percentage difference of: -1.6234274574540024%\n"
     ]
    }
   ],
   "source": [
    "print( np.abs(c[2]-a[2])) #Precision in tau 0.03 - orignal\n",
    "print( 'Giving a percentage difference of: '+str(((a[2]-c[2])/(c[2]))*100)+'%')\n",
    "print( np.abs(c[2]-b[2])) #Precision in tau 0.01 - orignal\n",
    "print( 'Giving a percentage difference of: '+str(((b[2]-c[2])/(c[2]))*100)+'%')"
   ]
  },
  {
   "cell_type": "markdown",
   "metadata": {},
   "source": [
    "Expected precision for tau increased as f increased too."
   ]
  },
  {
   "cell_type": "code",
   "execution_count": 27,
   "metadata": {},
   "outputs": [
    {
     "name": "stdout",
     "output_type": "stream",
     "text": [
      "Mean and mean percentage difference in V over 10 MC simulations with 10000 events with f=0.3 and V with no f: \n",
      "0.0274, 27.9101%\n",
      "Mean and percentage difference in V over 10 MC simulations with 10000 events with f=0.1 and V with no f: \n",
      "0.0066, 6.7577%\n"
     ]
    }
   ],
   "source": [
    "# difference in the mean values for V, m and tau and the percentage difference between the mean values\n",
    "V_diff_zerothree = np.mean(np.array(c[3])-np.array(a[3])) #Difference in V in 0.03 - orignal\n",
    "VP_diff_zerothree = ((np.mean(np.array(c[3])-np.array(a[3])))/np.mean(np.array(c[3])))*100 # % Difference in V in 0.03 - orignal\n",
    "V_diff_zeroone = np.mean(np.array(c[3])-np.array(b[3])) #Difference in V in 0.01 - orignal\n",
    "VP_diff_zeroone = ((np.mean(np.array(c[3])-np.array(b[3])))/np.mean(np.array(c[3])))*100 # % Difference in V in 0.01 - orignal\n",
    "\n",
    "print(\"Mean and mean percentage difference in V over 10 MC simulations with 10000 events with f=0.3 and V with no f: \\n%.4f, %.4f%%\" %(V_diff_zerothree,VP_diff_zerothree))\n",
    "print(\"Mean and percentage difference in V over 10 MC simulations with 10000 events with f=0.1 and V with no f: \\n%.4f, %.4f%%\" %(V_diff_zeroone,VP_diff_zeroone))\n"
   ]
  },
  {
   "cell_type": "code",
   "execution_count": 28,
   "metadata": {},
   "outputs": [
    {
     "name": "stdout",
     "output_type": "stream",
     "text": [
      "Mean and mean percentage difference in m over 10 MC simulations with 10000 events with f=0.3 and V with no f: \n",
      "-0.0040, -0.0200%\n",
      "Mean and percentage difference in m over 10 MC simulations with 10000 events with f=0.1 and V with no f: \n",
      "-0.0099, -0.0495%\n"
     ]
    }
   ],
   "source": [
    "m_diff_zerothree = np.mean(np.array(c[4])-np.array(a[4])) #Difference in m in 0.03 - orignal\n",
    "mP_diff_zerothree = ((np.mean(np.array(c[4])-np.array(a[4])))/np.mean(np.array(c[4])))*100 # % Difference in m in 0.03 - orignal\n",
    "m_diff_zeroone = np.mean(np.array(c[4])-np.array(b[4])) #Difference in m in 0.01 - orignal\n",
    "mP_diff_zeroone = ((np.mean(np.array(c[4])-np.array(b[4])))/np.mean(np.array(c[4])))*100 # % Difference in m in 0.01 - orignal\n",
    "\n",
    "print(\"Mean and mean percentage difference in m over 10 MC simulations with 10000 events with f=0.3 and V with no f: \\n%.4f, %.4f%%\" %(m_diff_zerothree,mP_diff_zerothree))\n",
    "print(\"Mean and percentage difference in m over 10 MC simulations with 10000 events with f=0.1 and V with no f: \\n%.4f, %.4f%%\" %(m_diff_zeroone,mP_diff_zeroone))\n"
   ]
  },
  {
   "cell_type": "code",
   "execution_count": 29,
   "metadata": {},
   "outputs": [
    {
     "name": "stdout",
     "output_type": "stream",
     "text": [
      "Mean and mean percentage difference in tau over 10 MC simulations with 10000 events with f=0.3 and V with no f: \n",
      "0.0015, 0.1016%\n",
      "Mean and percentage difference in tau over 10 MC simulations with 10000 events with f=0.1 and V with no f: \n",
      "-0.0121, -0.8061%\n"
     ]
    }
   ],
   "source": [
    "tau_diff_zerothree = np.mean(np.array(c[5])-np.array(a[5])) #Difference in tau in 0.03 - orignal\n",
    "tauP_diff_zerothree = ((np.mean(np.array(c[5])-np.array(a[5])))/np.mean(np.array(c[5])))*100 # % Difference in tau in 0.03 - orignal\n",
    "tau_diff_zeroone = np.mean(np.array(c[5])-np.array(b[5])) #Difference in tau in 0.01 - orignal\n",
    "tauP_diff_zeroone = ((np.mean(np.array(c[5])-np.array(b[5])))/np.mean(np.array(c[5])))*100 # % Difference in tau in 0.01 - orignal\n",
    "\n",
    "print(\"Mean and mean percentage difference in tau over 10 MC simulations with 10000 events with f=0.3 and V with no f: \\n%.4f, %.4f%%\" %(tau_diff_zerothree,tauP_diff_zerothree))\n",
    "print(\"Mean and percentage difference in tau over 10 MC simulations with 10000 events with f=0.1 and V with no f: \\n%.4f, %.4f%%\" %(tau_diff_zeroone,tauP_diff_zeroone))\n"
   ]
  },
  {
   "cell_type": "markdown",
   "metadata": {},
   "source": [
    "__V__\n",
    "\n",
    "For V, the expected precision decreased as f increased. As f increased, the mean percentage difference between the V data over each regime (between the pdf with f and the original pdf) got larger too. V appears to have the largest bias from the time resolution as the mean difference in V as a percentile is the largest. This also changes with varying values of f. For example, at f=0.3, the bias for V is $\\approx$+33%\n",
    "\n",
    "__m__\n",
    "\n",
    "Expected precision increased with f, whilst the mean percentage difference between the original m data and the m data with f included increased, but at a much slower rate than V. Suggesting that as the time resolution increases, the expected precision increases and the delta m data follows the trend.\n",
    "\n",
    "__tau__\n",
    "\n",
    "Expected precision in tau also increased with increasing f. However from the mean percentage differences, it is hard to see a trend. It may be constant, it may increase but very slowly. I would need more data at different, higher fs to see.\n",
    "\n",
    "__m/tau__\n",
    "\n",
    "For both tau and m, the percentages remain under 1% so I cannot say for sure if there is a bias on them (unless it is very very hard to see) or they are just statistical fluctuations that increase with f and I cannot tell the difference.\n",
    "\n",
    "__An aside__\n",
    "\n",
    "I expect increase the number of MC simulations will also give us better results, however that would take too long to run and become more time consuming than efficient."
   ]
  },
  {
   "cell_type": "markdown",
   "metadata": {},
   "source": [
    "# PART 3"
   ]
  },
  {
   "cell_type": "code",
   "execution_count": 30,
   "metadata": {},
   "outputs": [
    {
     "data": {
      "image/png": "[encoded data removed]",
      "text/plain": [
       "<Figure size 432x288 with 3 Axes>"
      ]
     },
     "metadata": {
      "needs_background": "light"
     },
     "output_type": "display_data"
    }
   ],
   "source": [
    "postime = ToyTimeAccFile('0.03timeacc.txt', 10, 0.03, 1)"
   ]
  },
  {
   "cell_type": "code",
   "execution_count": 31,
   "metadata": {
    "scrolled": true
   },
   "outputs": [
    {
     "data": {
      "image/png": "[encoded data removed]",
      "text/plain": [
       "<Figure size 432x288 with 3 Axes>"
      ]
     },
     "metadata": {
      "needs_background": "light"
     },
     "output_type": "display_data"
    }
   ],
   "source": [
    "negtime = ToyTimeAccFile('-0.03timeacc.txt', 10, -0.03, 1)"
   ]
  },
  {
   "cell_type": "code",
   "execution_count": 32,
   "metadata": {},
   "outputs": [],
   "source": [
    "Vdown = np.abs(np.average(c[3])-np.average(negtime[3]))\n",
    "Vup = np.abs(np.average(c[3])-np.average(postime[3]))\n",
    "V = np.mean(c[3])"
   ]
  },
  {
   "cell_type": "code",
   "execution_count": 33,
   "metadata": {},
   "outputs": [],
   "source": [
    "mdown = np.abs(np.average(c[4])-np.average(negtime[4]))\n",
    "mup = np.abs(np.average(c[4])-np.average(postime[4]))\n",
    "m = np.mean(c[4])"
   ]
  },
  {
   "cell_type": "code",
   "execution_count": 34,
   "metadata": {},
   "outputs": [],
   "source": [
    "taudown = np.abs(np.average(c[5])-np.average(negtime[5]))\n",
    "tauup = np.abs(np.average(c[5])-np.average(postime[5]))\n",
    "tau = np.mean(c[5])"
   ]
  },
  {
   "cell_type": "code",
   "execution_count": 35,
   "metadata": {},
   "outputs": [
    {
     "name": "stdout",
     "output_type": "stream",
     "text": [
      "0.09800036557581025 plus 0.004410611048877827 minus 0.002036167521293153\n"
     ]
    }
   ],
   "source": [
    "print(''+str(V)+' plus '+str(Vup)+' minus '+str(Vdown))"
   ]
  },
  {
   "cell_type": "code",
   "execution_count": 36,
   "metadata": {},
   "outputs": [
    {
     "name": "stdout",
     "output_type": "stream",
     "text": [
      "19.998978964467888 plus 0.008953051547830881 minus 0.0020618618712475723\n"
     ]
    }
   ],
   "source": [
    "print(''+str(m)+' plus '+str(mup)+' minus '+str(mdown))"
   ]
  },
  {
   "cell_type": "code",
   "execution_count": 37,
   "metadata": {},
   "outputs": [
    {
     "name": "stdout",
     "output_type": "stream",
     "text": [
      "1.4968009110023612 plus 0.05808795148254786 minus 0.06703358493740774\n"
     ]
    }
   ],
   "source": [
    "print(''+str(tau)+' plus '+str(tauup)+' minus '+str(taudown))"
   ]
  },
  {
   "cell_type": "markdown",
   "metadata": {},
   "source": [
    "For Part 3, I decided to use the formula pdf*a(t) as defined in the lecture slides we have had before. I used the maximum difference and minimumum (s = 0.03,-0.03). After putting these into the pdf, I minimised without having a(t) in the pdf and did multiple MC simulations to get a fair test. I then take the data (measurements of the parameter) from each MC, and add them to a list. I take the list, average the values and end up with an averaged parameter. This average parameter has been shifted by a systematic error. Then taking the difference between the original parameter value and the new parameter value gives the error. By using +0.03 and -0.03, we get the upper and lower errors. As seen above, the value from the original experiment and the errors are shown after."
   ]
  },
  {
   "cell_type": "markdown",
   "metadata": {},
   "source": [
    "# Conclusion"
   ]
  },
  {
   "cell_type": "markdown",
   "metadata": {},
   "source": [
    "By using larger numbers of events, the expected error in t decreases. Showing that more data gives more precise results. However, in future, I would like to set a seed for the random number generator to have better reproducability for when I write about the results and the results you'll actually get when you run this notebook.\n",
    "\n",
    "The expected precision increased for m and tau as f was increased. Expected precision decreased for V and it's spread of parameters values increased with increasing f. Trends in the value difference for m and tau as f increased were hard to see as they were so much smaller than V, making a prediction about them uncertain. V was the largest biased value with a bias of $\\approx$+33% for f=0.3 whilst the other parameters were sub 1%. I am unsure whether or not m and tau were biased or the effect was just statistical fluctuations.\n",
    "\n",
    "The systematic errors due to time acceptance appear to have very little effect on the data, leaving statistical errors as the dominating errors in the experiment. For example, the statistical positive error in delta m was 0.007 compared to its value of 19.992. As a percentage that is a 0.035% change (or at least it was when I ran the notebook). Very small compared to some of the errors we have seen in V, tau and m. tau seemed to be the most effected by the time acceptance, as it had the largest errors."
   ]
  }
 ],
 "metadata": {
  "kernelspec": {
   "display_name": "Python 3",
   "language": "python",
   "name": "python3"
  },
  "language_info": {
   "codemirror_mode": {
    "name": "ipython",
    "version": 3
   },
   "file_extension": ".py",
   "mimetype": "text/x-python",
   "name": "python",
   "nbconvert_exporter": "python",
   "pygments_lexer": "ipython3",
   "version": "3.6.8"
  }
 },
 "nbformat": 4,
 "nbformat_minor": 2
}
